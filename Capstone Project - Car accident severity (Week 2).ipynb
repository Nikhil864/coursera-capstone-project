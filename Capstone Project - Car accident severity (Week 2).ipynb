{
 "cells": [
  {
   "cell_type": "markdown",
   "metadata": {},
   "source": [
    "# Capstone Project - Car accident severity"
   ]
  },
  {
   "cell_type": "markdown",
   "metadata": {},
   "source": [
    "### Description of the Problem and Background"
   ]
  },
  {
   "cell_type": "markdown",
   "metadata": {},
   "source": [
    "The Seattle government is going to prevent avoidable car accidents by employing methods that alert drivers, health system, and police to remind them to be more careful in critical situations.\n",
    "\n",
    "In most cases, not paying enough attention during driving, abusing drugs and alcohol or driving at very high speed are the main causes of occurring accidents that can be prevented by enacting harsher regulations.\n",
    "\n",
    "Besides the aforementioned reasons, weather, visibility, or road conditions are the major uncontrollable factors that can be prevented by revealing hidden patterns in the data and announcing warning to the local government, police and drivers on the targeted roads.\n",
    "\n",
    "The model and its results are going to provide some advice for the target audience to make insightful decisions for reducing the number of accidents and injuries for the city.\n",
    "\n",
    "The data we have consists of includes all types of collisions. Collisions will display at the intersection or mid-block of a segment. Timeframe: 2004 to Present."
   ]
  },
  {
   "cell_type": "markdown",
   "metadata": {},
   "source": [
    "### Description of the Data"
   ]
  },
  {
   "cell_type": "markdown",
   "metadata": {},
   "source": [
    "We chose the unbalanced dataset provided by the Seattle Department of Transportation Traffic Management Division with 194673 rows (accidents) and 37 columns (features) where each accident is given a severity code. It covers accidents from January 2004 to May 2020. Some of the features in this dataset include and are not limited to Severity code, Location/Address of accident, Weather condition at the incident site, Driver state (whether under influence or not), collision type. Hence we think its a good generalized dataset which will help us in creating an accurate predictive model. The unbalance with respect to the severity code in the dataset is as follows.\n",
    "\n",
    "SEVERITY CODE Count\n",
    "\n",
    "1 — 136485\n",
    "\n",
    "2 — 58188\n",
    "\n",
    "Dependent variable/ target: “SEVERITYCODE” (0 to 2 levels) \"SEVERITYDESC\"\n",
    "\n",
    "0 - Little to no Probability (Clear Weather Conditions)\n",
    "1 - Very Low Probability - Chance or Property Damage \n",
    "2 - Low Probability - Chance of Injury "
   ]
  },
  {
   "cell_type": "markdown",
   "metadata": {},
   "source": [
    "## Methodology "
   ]
  },
  {
   "cell_type": "code",
   "execution_count": 47,
   "metadata": {},
   "outputs": [
    {
     "name": "stderr",
     "output_type": "stream",
     "text": [
      "C:\\Users\\USER\\Anaconda3\\lib\\site-packages\\IPython\\core\\interactiveshell.py:3058: DtypeWarning: Columns (33) have mixed types. Specify dtype option on import or set low_memory=False.\n",
      "  interactivity=interactivity, compiler=compiler, result=result)\n"
     ]
    },
    {
     "data": {
      "text/html": [
       "<div>\n",
       "<style scoped>\n",
       "    .dataframe tbody tr th:only-of-type {\n",
       "        vertical-align: middle;\n",
       "    }\n",
       "\n",
       "    .dataframe tbody tr th {\n",
       "        vertical-align: top;\n",
       "    }\n",
       "\n",
       "    .dataframe thead th {\n",
       "        text-align: right;\n",
       "    }\n",
       "</style>\n",
       "<table border=\"1\" class=\"dataframe\">\n",
       "  <thead>\n",
       "    <tr style=\"text-align: right;\">\n",
       "      <th></th>\n",
       "      <th>SEVERITYCODE</th>\n",
       "      <th>X</th>\n",
       "      <th>Y</th>\n",
       "      <th>OBJECTID</th>\n",
       "      <th>INCKEY</th>\n",
       "      <th>COLDETKEY</th>\n",
       "      <th>REPORTNO</th>\n",
       "      <th>STATUS</th>\n",
       "      <th>ADDRTYPE</th>\n",
       "      <th>INTKEY</th>\n",
       "      <th>...</th>\n",
       "      <th>ROADCOND</th>\n",
       "      <th>LIGHTCOND</th>\n",
       "      <th>PEDROWNOTGRNT</th>\n",
       "      <th>SDOTCOLNUM</th>\n",
       "      <th>SPEEDING</th>\n",
       "      <th>ST_COLCODE</th>\n",
       "      <th>ST_COLDESC</th>\n",
       "      <th>SEGLANEKEY</th>\n",
       "      <th>CROSSWALKKEY</th>\n",
       "      <th>HITPARKEDCAR</th>\n",
       "    </tr>\n",
       "  </thead>\n",
       "  <tbody>\n",
       "    <tr>\n",
       "      <td>0</td>\n",
       "      <td>2</td>\n",
       "      <td>-122.323148</td>\n",
       "      <td>47.703140</td>\n",
       "      <td>1</td>\n",
       "      <td>1307</td>\n",
       "      <td>1307</td>\n",
       "      <td>3502005</td>\n",
       "      <td>Matched</td>\n",
       "      <td>Intersection</td>\n",
       "      <td>37475.0</td>\n",
       "      <td>...</td>\n",
       "      <td>Wet</td>\n",
       "      <td>Daylight</td>\n",
       "      <td>NaN</td>\n",
       "      <td>NaN</td>\n",
       "      <td>NaN</td>\n",
       "      <td>10</td>\n",
       "      <td>Entering at angle</td>\n",
       "      <td>0</td>\n",
       "      <td>0</td>\n",
       "      <td>N</td>\n",
       "    </tr>\n",
       "    <tr>\n",
       "      <td>1</td>\n",
       "      <td>1</td>\n",
       "      <td>-122.347294</td>\n",
       "      <td>47.647172</td>\n",
       "      <td>2</td>\n",
       "      <td>52200</td>\n",
       "      <td>52200</td>\n",
       "      <td>2607959</td>\n",
       "      <td>Matched</td>\n",
       "      <td>Block</td>\n",
       "      <td>NaN</td>\n",
       "      <td>...</td>\n",
       "      <td>Wet</td>\n",
       "      <td>Dark - Street Lights On</td>\n",
       "      <td>NaN</td>\n",
       "      <td>6354039.0</td>\n",
       "      <td>NaN</td>\n",
       "      <td>11</td>\n",
       "      <td>From same direction - both going straight - bo...</td>\n",
       "      <td>0</td>\n",
       "      <td>0</td>\n",
       "      <td>N</td>\n",
       "    </tr>\n",
       "    <tr>\n",
       "      <td>2</td>\n",
       "      <td>1</td>\n",
       "      <td>-122.334540</td>\n",
       "      <td>47.607871</td>\n",
       "      <td>3</td>\n",
       "      <td>26700</td>\n",
       "      <td>26700</td>\n",
       "      <td>1482393</td>\n",
       "      <td>Matched</td>\n",
       "      <td>Block</td>\n",
       "      <td>NaN</td>\n",
       "      <td>...</td>\n",
       "      <td>Dry</td>\n",
       "      <td>Daylight</td>\n",
       "      <td>NaN</td>\n",
       "      <td>4323031.0</td>\n",
       "      <td>NaN</td>\n",
       "      <td>32</td>\n",
       "      <td>One parked--one moving</td>\n",
       "      <td>0</td>\n",
       "      <td>0</td>\n",
       "      <td>N</td>\n",
       "    </tr>\n",
       "    <tr>\n",
       "      <td>3</td>\n",
       "      <td>1</td>\n",
       "      <td>-122.334803</td>\n",
       "      <td>47.604803</td>\n",
       "      <td>4</td>\n",
       "      <td>1144</td>\n",
       "      <td>1144</td>\n",
       "      <td>3503937</td>\n",
       "      <td>Matched</td>\n",
       "      <td>Block</td>\n",
       "      <td>NaN</td>\n",
       "      <td>...</td>\n",
       "      <td>Dry</td>\n",
       "      <td>Daylight</td>\n",
       "      <td>NaN</td>\n",
       "      <td>NaN</td>\n",
       "      <td>NaN</td>\n",
       "      <td>23</td>\n",
       "      <td>From same direction - all others</td>\n",
       "      <td>0</td>\n",
       "      <td>0</td>\n",
       "      <td>N</td>\n",
       "    </tr>\n",
       "    <tr>\n",
       "      <td>4</td>\n",
       "      <td>2</td>\n",
       "      <td>-122.306426</td>\n",
       "      <td>47.545739</td>\n",
       "      <td>5</td>\n",
       "      <td>17700</td>\n",
       "      <td>17700</td>\n",
       "      <td>1807429</td>\n",
       "      <td>Matched</td>\n",
       "      <td>Intersection</td>\n",
       "      <td>34387.0</td>\n",
       "      <td>...</td>\n",
       "      <td>Wet</td>\n",
       "      <td>Daylight</td>\n",
       "      <td>NaN</td>\n",
       "      <td>4028032.0</td>\n",
       "      <td>NaN</td>\n",
       "      <td>10</td>\n",
       "      <td>Entering at angle</td>\n",
       "      <td>0</td>\n",
       "      <td>0</td>\n",
       "      <td>N</td>\n",
       "    </tr>\n",
       "  </tbody>\n",
       "</table>\n",
       "<p>5 rows × 38 columns</p>\n",
       "</div>"
      ],
      "text/plain": [
       "   SEVERITYCODE           X          Y  OBJECTID  INCKEY  COLDETKEY REPORTNO  \\\n",
       "0             2 -122.323148  47.703140         1    1307       1307  3502005   \n",
       "1             1 -122.347294  47.647172         2   52200      52200  2607959   \n",
       "2             1 -122.334540  47.607871         3   26700      26700  1482393   \n",
       "3             1 -122.334803  47.604803         4    1144       1144  3503937   \n",
       "4             2 -122.306426  47.545739         5   17700      17700  1807429   \n",
       "\n",
       "    STATUS      ADDRTYPE   INTKEY  ... ROADCOND                LIGHTCOND  \\\n",
       "0  Matched  Intersection  37475.0  ...      Wet                 Daylight   \n",
       "1  Matched         Block      NaN  ...      Wet  Dark - Street Lights On   \n",
       "2  Matched         Block      NaN  ...      Dry                 Daylight   \n",
       "3  Matched         Block      NaN  ...      Dry                 Daylight   \n",
       "4  Matched  Intersection  34387.0  ...      Wet                 Daylight   \n",
       "\n",
       "  PEDROWNOTGRNT  SDOTCOLNUM SPEEDING ST_COLCODE  \\\n",
       "0           NaN         NaN      NaN         10   \n",
       "1           NaN   6354039.0      NaN         11   \n",
       "2           NaN   4323031.0      NaN         32   \n",
       "3           NaN         NaN      NaN         23   \n",
       "4           NaN   4028032.0      NaN         10   \n",
       "\n",
       "                                          ST_COLDESC  SEGLANEKEY  \\\n",
       "0                                  Entering at angle           0   \n",
       "1  From same direction - both going straight - bo...           0   \n",
       "2                             One parked--one moving           0   \n",
       "3                   From same direction - all others           0   \n",
       "4                                  Entering at angle           0   \n",
       "\n",
       "   CROSSWALKKEY  HITPARKEDCAR  \n",
       "0             0             N  \n",
       "1             0             N  \n",
       "2             0             N  \n",
       "3             0             N  \n",
       "4             0             N  \n",
       "\n",
       "[5 rows x 38 columns]"
      ]
     },
     "execution_count": 47,
     "metadata": {},
     "output_type": "execute_result"
    }
   ],
   "source": [
    "#Reading the Datset\n",
    "import pandas as pd\n",
    "data=pd.read_csv(r\"Data-Collisions.csv\")\n",
    "data.head()"
   ]
  },
  {
   "cell_type": "code",
   "execution_count": 48,
   "metadata": {},
   "outputs": [
    {
     "data": {
      "text/plain": [
       "Index(['SEVERITYCODE', 'X', 'Y', 'OBJECTID', 'INCKEY', 'COLDETKEY', 'REPORTNO',\n",
       "       'STATUS', 'ADDRTYPE', 'INTKEY', 'LOCATION', 'EXCEPTRSNCODE',\n",
       "       'EXCEPTRSNDESC', 'SEVERITYCODE.1', 'SEVERITYDESC', 'COLLISIONTYPE',\n",
       "       'PERSONCOUNT', 'PEDCOUNT', 'PEDCYLCOUNT', 'VEHCOUNT', 'INCDATE',\n",
       "       'INCDTTM', 'JUNCTIONTYPE', 'SDOT_COLCODE', 'SDOT_COLDESC',\n",
       "       'INATTENTIONIND', 'UNDERINFL', 'WEATHER', 'ROADCOND', 'LIGHTCOND',\n",
       "       'PEDROWNOTGRNT', 'SDOTCOLNUM', 'SPEEDING', 'ST_COLCODE', 'ST_COLDESC',\n",
       "       'SEGLANEKEY', 'CROSSWALKKEY', 'HITPARKEDCAR'],\n",
       "      dtype='object')"
      ]
     },
     "execution_count": 48,
     "metadata": {},
     "output_type": "execute_result"
    }
   ],
   "source": [
    "#columns name\n",
    "data.columns"
   ]
  },
  {
   "cell_type": "code",
   "execution_count": 49,
   "metadata": {},
   "outputs": [
    {
     "data": {
      "text/plain": [
       "(194673, 38)"
      ]
     },
     "execution_count": 49,
     "metadata": {},
     "output_type": "execute_result"
    }
   ],
   "source": [
    "#Rows and Columns\n",
    "data.shape"
   ]
  },
  {
   "cell_type": "code",
   "execution_count": 53,
   "metadata": {},
   "outputs": [
    {
     "data": {
      "text/plain": [
       "Property Damage Only Collision    136485\n",
       "Injury Collision                   58188\n",
       "Name: SEVERITYDESC, dtype: int64"
      ]
     },
     "execution_count": 53,
     "metadata": {},
     "output_type": "execute_result"
    }
   ],
   "source": [
    "#Target variable\n",
    "data[\"SEVERITYDESC\"].value_counts()"
   ]
  },
  {
   "cell_type": "markdown",
   "metadata": {},
   "source": [
    "#### Feature Selection"
   ]
  },
  {
   "cell_type": "markdown",
   "metadata": {},
   "source": [
    "*Feature selection is the process of reducing the number of input variables when developing a predictive model. It is desirable to reduce the number of input variables to both reduce the computational cost of modeling and, in some cases, to improve the performance of the model*\n",
    "\n",
    "Here, In the Data, we are considering only few features.\n",
    "They are  WEATHER,ROADCOND,JUNCTIONTYPE,VEHCOUNT,PERSONCOUNT,SEVERITYDESC,ADDRTYPE,SDOT_COLDESC,LIGHTCOND"
   ]
  },
  {
   "cell_type": "markdown",
   "metadata": {},
   "source": [
    "/* Description of Variables*/\n",
    "\n",
    "#SEVERITYDESC  :  A description of code that corresponds to the severity of the collision\n",
    "#WEATHER       :  A description of the weather conditions during the time of the collision. \n",
    "#ROADCOND      :  The condition of the road during the collision.\n",
    "#JUNCTIONTYPE  :  Category of junction at which collision took place \n",
    "#VEHCOUNT      :  The number of vehicles involved in the collision.This is entered by the state. \n",
    "#PERSONCOUNT   :  The total number of people involved in the collision\n",
    "#ADDRTYPE      :  Collision address type-- Alley,Block,Intersection\n",
    "#SDOT_COLDESC  :  A description of the collision corresponding to the collision code. \n",
    "#LIGHTCOND     :  The light conditions during the collision."
   ]
  },
  {
   "cell_type": "code",
   "execution_count": 54,
   "metadata": {},
   "outputs": [
    {
     "data": {
      "text/plain": [
       "['WEATHER',\n",
       " 'ROADCOND',\n",
       " 'JUNCTIONTYPE',\n",
       " 'VEHCOUNT',\n",
       " 'PERSONCOUNT',\n",
       " 'SEVERITYDESC',\n",
       " 'ADDRTYPE',\n",
       " 'SDOT_COLDESC',\n",
       " 'LIGHTCOND']"
      ]
     },
     "execution_count": 54,
     "metadata": {},
     "output_type": "execute_result"
    }
   ],
   "source": [
    "att=['WEATHER','ROADCOND','JUNCTIONTYPE','VEHCOUNT','PERSONCOUNT','SEVERITYDESC','ADDRTYPE', 'SDOT_COLDESC','LIGHTCOND']\n",
    "att"
   ]
  },
  {
   "cell_type": "markdown",
   "metadata": {},
   "source": [
    "#### Data Wrangling"
   ]
  },
  {
   "cell_type": "code",
   "execution_count": 55,
   "metadata": {},
   "outputs": [
    {
     "data": {
      "text/html": [
       "<div>\n",
       "<style scoped>\n",
       "    .dataframe tbody tr th:only-of-type {\n",
       "        vertical-align: middle;\n",
       "    }\n",
       "\n",
       "    .dataframe tbody tr th {\n",
       "        vertical-align: top;\n",
       "    }\n",
       "\n",
       "    .dataframe thead th {\n",
       "        text-align: right;\n",
       "    }\n",
       "</style>\n",
       "<table border=\"1\" class=\"dataframe\">\n",
       "  <thead>\n",
       "    <tr style=\"text-align: right;\">\n",
       "      <th></th>\n",
       "      <th>WEATHER</th>\n",
       "      <th>ROADCOND</th>\n",
       "      <th>JUNCTIONTYPE</th>\n",
       "      <th>VEHCOUNT</th>\n",
       "      <th>PERSONCOUNT</th>\n",
       "      <th>SEVERITYDESC</th>\n",
       "      <th>ADDRTYPE</th>\n",
       "      <th>SDOT_COLDESC</th>\n",
       "      <th>LIGHTCOND</th>\n",
       "    </tr>\n",
       "  </thead>\n",
       "  <tbody>\n",
       "    <tr>\n",
       "      <td>0</td>\n",
       "      <td>Overcast</td>\n",
       "      <td>Wet</td>\n",
       "      <td>At Intersection (intersection related)</td>\n",
       "      <td>2</td>\n",
       "      <td>2</td>\n",
       "      <td>Injury Collision</td>\n",
       "      <td>Intersection</td>\n",
       "      <td>MOTOR VEHICLE STRUCK MOTOR VEHICLE, FRONT END ...</td>\n",
       "      <td>Daylight</td>\n",
       "    </tr>\n",
       "    <tr>\n",
       "      <td>1</td>\n",
       "      <td>Raining</td>\n",
       "      <td>Wet</td>\n",
       "      <td>Mid-Block (not related to intersection)</td>\n",
       "      <td>2</td>\n",
       "      <td>2</td>\n",
       "      <td>Property Damage Only Collision</td>\n",
       "      <td>Block</td>\n",
       "      <td>MOTOR VEHICLE STRUCK MOTOR VEHICLE, LEFT SIDE ...</td>\n",
       "      <td>Dark - Street Lights On</td>\n",
       "    </tr>\n",
       "    <tr>\n",
       "      <td>2</td>\n",
       "      <td>Overcast</td>\n",
       "      <td>Dry</td>\n",
       "      <td>Mid-Block (not related to intersection)</td>\n",
       "      <td>3</td>\n",
       "      <td>4</td>\n",
       "      <td>Property Damage Only Collision</td>\n",
       "      <td>Block</td>\n",
       "      <td>MOTOR VEHICLE STRUCK MOTOR VEHICLE, REAR END</td>\n",
       "      <td>Daylight</td>\n",
       "    </tr>\n",
       "    <tr>\n",
       "      <td>3</td>\n",
       "      <td>Clear</td>\n",
       "      <td>Dry</td>\n",
       "      <td>Mid-Block (not related to intersection)</td>\n",
       "      <td>3</td>\n",
       "      <td>3</td>\n",
       "      <td>Property Damage Only Collision</td>\n",
       "      <td>Block</td>\n",
       "      <td>MOTOR VEHICLE STRUCK MOTOR VEHICLE, FRONT END ...</td>\n",
       "      <td>Daylight</td>\n",
       "    </tr>\n",
       "    <tr>\n",
       "      <td>4</td>\n",
       "      <td>Raining</td>\n",
       "      <td>Wet</td>\n",
       "      <td>At Intersection (intersection related)</td>\n",
       "      <td>2</td>\n",
       "      <td>2</td>\n",
       "      <td>Injury Collision</td>\n",
       "      <td>Intersection</td>\n",
       "      <td>MOTOR VEHICLE STRUCK MOTOR VEHICLE, FRONT END ...</td>\n",
       "      <td>Daylight</td>\n",
       "    </tr>\n",
       "  </tbody>\n",
       "</table>\n",
       "</div>"
      ],
      "text/plain": [
       "    WEATHER ROADCOND                             JUNCTIONTYPE  VEHCOUNT  \\\n",
       "0  Overcast      Wet   At Intersection (intersection related)         2   \n",
       "1   Raining      Wet  Mid-Block (not related to intersection)         2   \n",
       "2  Overcast      Dry  Mid-Block (not related to intersection)         3   \n",
       "3     Clear      Dry  Mid-Block (not related to intersection)         3   \n",
       "4   Raining      Wet   At Intersection (intersection related)         2   \n",
       "\n",
       "   PERSONCOUNT                    SEVERITYDESC      ADDRTYPE  \\\n",
       "0            2                Injury Collision  Intersection   \n",
       "1            2  Property Damage Only Collision         Block   \n",
       "2            4  Property Damage Only Collision         Block   \n",
       "3            3  Property Damage Only Collision         Block   \n",
       "4            2                Injury Collision  Intersection   \n",
       "\n",
       "                                        SDOT_COLDESC                LIGHTCOND  \n",
       "0  MOTOR VEHICLE STRUCK MOTOR VEHICLE, FRONT END ...                 Daylight  \n",
       "1  MOTOR VEHICLE STRUCK MOTOR VEHICLE, LEFT SIDE ...  Dark - Street Lights On  \n",
       "2       MOTOR VEHICLE STRUCK MOTOR VEHICLE, REAR END                 Daylight  \n",
       "3  MOTOR VEHICLE STRUCK MOTOR VEHICLE, FRONT END ...                 Daylight  \n",
       "4  MOTOR VEHICLE STRUCK MOTOR VEHICLE, FRONT END ...                 Daylight  "
      ]
     },
     "execution_count": 55,
     "metadata": {},
     "output_type": "execute_result"
    }
   ],
   "source": [
    "df=data[att]\n",
    "df.head()"
   ]
  },
  {
   "cell_type": "code",
   "execution_count": 56,
   "metadata": {
    "scrolled": false
   },
   "outputs": [
    {
     "name": "stdout",
     "output_type": "stream",
     "text": [
      "Clear                       111135\n",
      "Raining                      33145\n",
      "Overcast                     27714\n",
      "Unknown                      15091\n",
      "Snowing                        907\n",
      "Other                          832\n",
      "Fog/Smog/Smoke                 569\n",
      "Sleet/Hail/Freezing Rain       113\n",
      "Blowing Sand/Dirt               56\n",
      "Severe Crosswind                25\n",
      "Partly Cloudy                    5\n",
      "Name: WEATHER, dtype: int64\n",
      "--------------------------------------------------------------------------------\n",
      "Dry               124510\n",
      "Wet                47474\n",
      "Unknown            15078\n",
      "Ice                 1209\n",
      "Snow/Slush          1004\n",
      "Other                132\n",
      "Standing Water       115\n",
      "Sand/Mud/Dirt         75\n",
      "Oil                   64\n",
      "Name: ROADCOND, dtype: int64\n",
      "--------------------------------------------------------------------------------\n",
      "Mid-Block (not related to intersection)              89800\n",
      "At Intersection (intersection related)               62810\n",
      "Mid-Block (but intersection related)                 22790\n",
      "Driveway Junction                                    10671\n",
      "At Intersection (but not related to intersection)     2098\n",
      "Ramp Junction                                          166\n",
      "Unknown                                                  9\n",
      "Name: JUNCTIONTYPE, dtype: int64\n",
      "--------------------------------------------------------------------------------\n",
      "2     147650\n",
      "1      25748\n",
      "3      13010\n",
      "0       5085\n",
      "4       2426\n",
      "5        529\n",
      "6        146\n",
      "7         46\n",
      "8         15\n",
      "9          9\n",
      "11         6\n",
      "10         2\n",
      "12         1\n",
      "Name: VEHCOUNT, dtype: int64\n",
      "--------------------------------------------------------------------------------\n",
      "2     114231\n",
      "3      35553\n",
      "4      14660\n",
      "1      13154\n",
      "5       6584\n",
      "0       5544\n",
      "6       2702\n",
      "7       1131\n",
      "8        533\n",
      "9        216\n",
      "10       128\n",
      "11        56\n",
      "12        33\n",
      "13        21\n",
      "14        19\n",
      "15        11\n",
      "17        11\n",
      "16         8\n",
      "44         6\n",
      "18         6\n",
      "20         6\n",
      "25         6\n",
      "19         5\n",
      "26         4\n",
      "22         4\n",
      "27         3\n",
      "28         3\n",
      "29         3\n",
      "47         3\n",
      "32         3\n",
      "34         3\n",
      "37         3\n",
      "23         2\n",
      "21         2\n",
      "24         2\n",
      "30         2\n",
      "36         2\n",
      "57         1\n",
      "31         1\n",
      "35         1\n",
      "39         1\n",
      "41         1\n",
      "43         1\n",
      "48         1\n",
      "53         1\n",
      "54         1\n",
      "81         1\n",
      "Name: PERSONCOUNT, dtype: int64\n",
      "--------------------------------------------------------------------------------\n",
      "Property Damage Only Collision    136485\n",
      "Injury Collision                   58188\n",
      "Name: SEVERITYDESC, dtype: int64\n",
      "--------------------------------------------------------------------------------\n",
      "Block           126926\n",
      "Intersection     65070\n",
      "Alley              751\n",
      "Name: ADDRTYPE, dtype: int64\n",
      "--------------------------------------------------------------------------------\n",
      "MOTOR VEHICLE STRUCK MOTOR VEHICLE, FRONT END AT ANGLE          85209\n",
      "MOTOR VEHICLE STRUCK MOTOR VEHICLE, REAR END                    54299\n",
      "MOTOR VEHICLE STRUCK MOTOR VEHICLE, LEFT SIDE SIDESWIPE          9928\n",
      "NOT ENOUGH INFORMATION / NOT APPLICABLE                          9787\n",
      "MOTOR VEHICLE RAN OFF ROAD - HIT FIXED OBJECT                    8856\n",
      "MOTOR VEHCILE STRUCK PEDESTRIAN                                  6518\n",
      "MOTOR VEHICLE STRUCK MOTOR VEHICLE, LEFT SIDE AT ANGLE           5852\n",
      "MOTOR VEHICLE STRUCK OBJECT IN ROAD                              4741\n",
      "MOTOR VEHICLE STRUCK PEDALCYCLIST, FRONT END AT ANGLE            3104\n",
      "MOTOR VEHICLE STRUCK MOTOR VEHICLE, RIGHT SIDE SIDESWIPE         1604\n",
      "MOTOR VEHICLE STRUCK MOTOR VEHICLE, RIGHT SIDE AT ANGLE          1440\n",
      "PEDALCYCLIST STRUCK MOTOR VEHICLE FRONT END AT ANGLE             1312\n",
      "MOTOR VEHICLE OVERTURNED IN ROAD                                  479\n",
      "MOTOR VEHICLE STRUCK PEDALCYCLIST, REAR END                       181\n",
      "PEDALCYCLIST STRUCK MOTOR VEHICLE LEFT SIDE SIDESWIPE             180\n",
      "MOTOR VEHICLE RAN OFF ROAD - NO COLLISION                         166\n",
      "PEDALCYCLIST STRUCK MOTOR VEHICLE REAR END                        139\n",
      "MOTOR VEHICLE STRUCK PEDALCYCLIST, LEFT SIDE SIDESWIPE            124\n",
      "DRIVERLESS VEHICLE RAN OFF ROAD - HIT FIXED OBJECT                107\n",
      "DRIVERLESS VEHICLE STRUCK MOTOR VEHICLE FRONT END AT ANGLE        104\n",
      "MOTOR VEHICLE STRUCK TRAIN                                        102\n",
      "DRIVERLESS VEHICLE STRUCK MOTOR VEHICLE REAR END                   93\n",
      "PEDALCYCLIST STRUCK PEDESTRIAN                                     75\n",
      "PEDALCYCLIST OVERTURNED IN ROAD                                    69\n",
      "DRIVERLESS VEHICLE STRUCK MOTOR VEHICLE LEFT SIDE AT ANGLE         53\n",
      "PEDALCYCLIST STRUCK MOTOR VEHICLE RIGHT SIDE SIDESWIPE             50\n",
      "PEDALCYCLIST STRUCK OBJECT IN ROAD                                 23\n",
      "MOTOR VEHICLE STRUCK PEDALCYCLIST, RIGHT SIDE SIDESWIPE            17\n",
      "DRIVERLESS VEHICLE STRUCK MOTOR VEHICLE RIGHT SIDE AT ANGLE        12\n",
      "PEDALCYCLIST STRUCK MOTOR VEHICLE LEFT SIDE AT ANGLE                9\n",
      "DRIVERLESS VEHICLE STRUCK PEDESTRIAN                                8\n",
      "PEDALCYCLIST STRUCK PEDALCYCLIST REAR END                           7\n",
      "DRIVERLESS VEHICLE STRUCK MOTOR VEHICLE RIGHT SIDE SIDESWIPE        6\n",
      "PEDALCYCLIST STRUCK PEDALCYCLIST FRONT END AT ANGLE                 5\n",
      "PEDALCYCLIST RAN OFF ROAD - HIT FIXED OBJECT                        4\n",
      "DRIVERLESS VEHICLE STRUCK MOTOR VEHICLE LEFT SIDE SIDESWIPE         4\n",
      "DRIVERLESS VEHICLE STRUCK OBJECT IN ROADWAY                         3\n",
      "PEDALCYCLIST STRUCK MOTOR VEHICLE RIGHT SIDE AT ANGLE               2\n",
      "DRIVERLESS VEHICLE RAN OFF ROAD - NO COLLISION                      1\n",
      "Name: SDOT_COLDESC, dtype: int64\n",
      "--------------------------------------------------------------------------------\n",
      "Daylight                    116137\n",
      "Dark - Street Lights On      48507\n",
      "Unknown                      13473\n",
      "Dusk                          5902\n",
      "Dawn                          2502\n",
      "Dark - No Street Lights       1537\n",
      "Dark - Street Lights Off      1199\n",
      "Other                          235\n",
      "Dark - Unknown Lighting         11\n",
      "Name: LIGHTCOND, dtype: int64\n",
      "--------------------------------------------------------------------------------\n"
     ]
    }
   ],
   "source": [
    "#Checking the Value counts of all variables\n",
    "for x in att:\n",
    "    print(df[x].value_counts())\n",
    "    print ('-'*80)"
   ]
  },
  {
   "cell_type": "code",
   "execution_count": 57,
   "metadata": {},
   "outputs": [
    {
     "data": {
      "text/plain": [
       "WEATHER         5081\n",
       "ROADCOND        5012\n",
       "JUNCTIONTYPE    6329\n",
       "VEHCOUNT           0\n",
       "PERSONCOUNT        0\n",
       "SEVERITYDESC       0\n",
       "ADDRTYPE        1926\n",
       "SDOT_COLDESC       0\n",
       "LIGHTCOND       5170\n",
       "dtype: int64"
      ]
     },
     "execution_count": 57,
     "metadata": {},
     "output_type": "execute_result"
    }
   ],
   "source": [
    "#Checking The Null values\n",
    "df.isnull().sum()"
   ]
  },
  {
   "cell_type": "code",
   "execution_count": 58,
   "metadata": {},
   "outputs": [
    {
     "data": {
      "text/plain": [
       "(194673, 9)"
      ]
     },
     "execution_count": 58,
     "metadata": {},
     "output_type": "execute_result"
    }
   ],
   "source": [
    "#checking number of samples\n",
    "df.shape"
   ]
  },
  {
   "cell_type": "code",
   "execution_count": 59,
   "metadata": {},
   "outputs": [
    {
     "data": {
      "text/plain": [
       "(182914, 9)"
      ]
     },
     "execution_count": 59,
     "metadata": {},
     "output_type": "execute_result"
    }
   ],
   "source": [
    "#Here the missing values values are less and total values are 194673.so we can drop them.\n",
    "df=df.dropna()\n",
    "df.shape"
   ]
  },
  {
   "cell_type": "code",
   "execution_count": 60,
   "metadata": {},
   "outputs": [
    {
     "data": {
      "text/html": [
       "<div>\n",
       "<style scoped>\n",
       "    .dataframe tbody tr th:only-of-type {\n",
       "        vertical-align: middle;\n",
       "    }\n",
       "\n",
       "    .dataframe tbody tr th {\n",
       "        vertical-align: top;\n",
       "    }\n",
       "\n",
       "    .dataframe thead th {\n",
       "        text-align: right;\n",
       "    }\n",
       "</style>\n",
       "<table border=\"1\" class=\"dataframe\">\n",
       "  <thead>\n",
       "    <tr style=\"text-align: right;\">\n",
       "      <th></th>\n",
       "      <th>WEATHER</th>\n",
       "      <th>ROADCOND</th>\n",
       "      <th>JUNCTIONTYPE</th>\n",
       "      <th>VEHCOUNT</th>\n",
       "      <th>PERSONCOUNT</th>\n",
       "      <th>SEVERITYDESC</th>\n",
       "      <th>ADDRTYPE</th>\n",
       "      <th>SDOT_COLDESC</th>\n",
       "      <th>LIGHTCOND</th>\n",
       "    </tr>\n",
       "  </thead>\n",
       "  <tbody>\n",
       "    <tr>\n",
       "      <td>0</td>\n",
       "      <td>Overcast</td>\n",
       "      <td>Wet</td>\n",
       "      <td>At Intersection (intersection related)</td>\n",
       "      <td>2</td>\n",
       "      <td>2</td>\n",
       "      <td>Injury Collision</td>\n",
       "      <td>Intersection</td>\n",
       "      <td>MOTOR VEHICLE STRUCK MOTOR VEHICLE, FRONT END ...</td>\n",
       "      <td>Daylight</td>\n",
       "    </tr>\n",
       "    <tr>\n",
       "      <td>1</td>\n",
       "      <td>Raining</td>\n",
       "      <td>Wet</td>\n",
       "      <td>Mid-Block (not related to intersection)</td>\n",
       "      <td>2</td>\n",
       "      <td>2</td>\n",
       "      <td>Property Damage Only Collision</td>\n",
       "      <td>Block</td>\n",
       "      <td>MOTOR VEHICLE STRUCK MOTOR VEHICLE, LEFT SIDE ...</td>\n",
       "      <td>Dark - Street Lights On</td>\n",
       "    </tr>\n",
       "    <tr>\n",
       "      <td>2</td>\n",
       "      <td>Overcast</td>\n",
       "      <td>Dry</td>\n",
       "      <td>Mid-Block (not related to intersection)</td>\n",
       "      <td>3</td>\n",
       "      <td>4</td>\n",
       "      <td>Property Damage Only Collision</td>\n",
       "      <td>Block</td>\n",
       "      <td>MOTOR VEHICLE STRUCK MOTOR VEHICLE, REAR END</td>\n",
       "      <td>Daylight</td>\n",
       "    </tr>\n",
       "    <tr>\n",
       "      <td>3</td>\n",
       "      <td>Clear</td>\n",
       "      <td>Dry</td>\n",
       "      <td>Mid-Block (not related to intersection)</td>\n",
       "      <td>3</td>\n",
       "      <td>3</td>\n",
       "      <td>Property Damage Only Collision</td>\n",
       "      <td>Block</td>\n",
       "      <td>MOTOR VEHICLE STRUCK MOTOR VEHICLE, FRONT END ...</td>\n",
       "      <td>Daylight</td>\n",
       "    </tr>\n",
       "    <tr>\n",
       "      <td>4</td>\n",
       "      <td>Raining</td>\n",
       "      <td>Wet</td>\n",
       "      <td>At Intersection (intersection related)</td>\n",
       "      <td>2</td>\n",
       "      <td>2</td>\n",
       "      <td>Injury Collision</td>\n",
       "      <td>Intersection</td>\n",
       "      <td>MOTOR VEHICLE STRUCK MOTOR VEHICLE, FRONT END ...</td>\n",
       "      <td>Daylight</td>\n",
       "    </tr>\n",
       "  </tbody>\n",
       "</table>\n",
       "</div>"
      ],
      "text/plain": [
       "    WEATHER ROADCOND                             JUNCTIONTYPE  VEHCOUNT  \\\n",
       "0  Overcast      Wet   At Intersection (intersection related)         2   \n",
       "1   Raining      Wet  Mid-Block (not related to intersection)         2   \n",
       "2  Overcast      Dry  Mid-Block (not related to intersection)         3   \n",
       "3     Clear      Dry  Mid-Block (not related to intersection)         3   \n",
       "4   Raining      Wet   At Intersection (intersection related)         2   \n",
       "\n",
       "   PERSONCOUNT                    SEVERITYDESC      ADDRTYPE  \\\n",
       "0            2                Injury Collision  Intersection   \n",
       "1            2  Property Damage Only Collision         Block   \n",
       "2            4  Property Damage Only Collision         Block   \n",
       "3            3  Property Damage Only Collision         Block   \n",
       "4            2                Injury Collision  Intersection   \n",
       "\n",
       "                                        SDOT_COLDESC                LIGHTCOND  \n",
       "0  MOTOR VEHICLE STRUCK MOTOR VEHICLE, FRONT END ...                 Daylight  \n",
       "1  MOTOR VEHICLE STRUCK MOTOR VEHICLE, LEFT SIDE ...  Dark - Street Lights On  \n",
       "2       MOTOR VEHICLE STRUCK MOTOR VEHICLE, REAR END                 Daylight  \n",
       "3  MOTOR VEHICLE STRUCK MOTOR VEHICLE, FRONT END ...                 Daylight  \n",
       "4  MOTOR VEHICLE STRUCK MOTOR VEHICLE, FRONT END ...                 Daylight  "
      ]
     },
     "execution_count": 60,
     "metadata": {},
     "output_type": "execute_result"
    }
   ],
   "source": [
    "df.head()"
   ]
  },
  {
   "cell_type": "code",
   "execution_count": 61,
   "metadata": {},
   "outputs": [
    {
     "data": {
      "text/plain": [
       "WEATHER         0\n",
       "ROADCOND        0\n",
       "JUNCTIONTYPE    0\n",
       "VEHCOUNT        0\n",
       "PERSONCOUNT     0\n",
       "SEVERITYDESC    0\n",
       "ADDRTYPE        0\n",
       "SDOT_COLDESC    0\n",
       "LIGHTCOND       0\n",
       "dtype: int64"
      ]
     },
     "execution_count": 61,
     "metadata": {},
     "output_type": "execute_result"
    }
   ],
   "source": [
    "#verifying  agian The Null values\n",
    "df.isnull().sum()"
   ]
  },
  {
   "cell_type": "code",
   "execution_count": 83,
   "metadata": {
    "scrolled": false
   },
   "outputs": [
    {
     "data": {
      "image/png": "[encoded data removed]",
      "text/plain": [
       "<Figure size 1080x4320 with 9 Axes>"
      ]
     },
     "metadata": {
      "needs_background": "light"
     },
     "output_type": "display_data"
    }
   ],
   "source": [
    "#importing matplotlib and seaborn\n",
    "import matplotlib.pyplot as plt\n",
    "import seaborn as sns\n",
    "\n",
    "#plot of Input variables w.r.t Target variable \"SEVERITYDESC\"\n",
    "plt.figure(figsize=(15,60))\n",
    "for i,col in enumerate(df,1):\n",
    "    plt.subplot(9,1,i)\n",
    "    sns.countplot(df[col],hue=df[\"SEVERITYDESC\"])"
   ]
  },
  {
   "cell_type": "code",
   "execution_count": 88,
   "metadata": {},
   "outputs": [
    {
     "data": {
      "text/plain": [
       "WEATHER         object\n",
       "ROADCOND        object\n",
       "JUNCTIONTYPE    object\n",
       "VEHCOUNT         int64\n",
       "PERSONCOUNT      int64\n",
       "SEVERITYDESC    object\n",
       "ADDRTYPE        object\n",
       "SDOT_COLDESC    object\n",
       "LIGHTCOND       object\n",
       "dtype: object"
      ]
     },
     "execution_count": 88,
     "metadata": {},
     "output_type": "execute_result"
    }
   ],
   "source": [
    "#checking the data types of featutres\n",
    "df.dtypes"
   ]
  },
  {
   "cell_type": "code",
   "execution_count": 90,
   "metadata": {},
   "outputs": [
    {
     "data": {
      "text/html": [
       "<div>\n",
       "<style scoped>\n",
       "    .dataframe tbody tr th:only-of-type {\n",
       "        vertical-align: middle;\n",
       "    }\n",
       "\n",
       "    .dataframe tbody tr th {\n",
       "        vertical-align: top;\n",
       "    }\n",
       "\n",
       "    .dataframe thead th {\n",
       "        text-align: right;\n",
       "    }\n",
       "</style>\n",
       "<table border=\"1\" class=\"dataframe\">\n",
       "  <thead>\n",
       "    <tr style=\"text-align: right;\">\n",
       "      <th></th>\n",
       "      <th>VEHCOUNT</th>\n",
       "      <th>PERSONCOUNT</th>\n",
       "      <th>WEATHER_Blowing Sand/Dirt</th>\n",
       "      <th>WEATHER_Clear</th>\n",
       "      <th>WEATHER_Fog/Smog/Smoke</th>\n",
       "      <th>WEATHER_Other</th>\n",
       "      <th>WEATHER_Overcast</th>\n",
       "      <th>WEATHER_Partly Cloudy</th>\n",
       "      <th>WEATHER_Raining</th>\n",
       "      <th>WEATHER_Severe Crosswind</th>\n",
       "      <th>...</th>\n",
       "      <th>SDOT_COLDESC_PEDALCYCLIST STRUCK PEDESTRIAN</th>\n",
       "      <th>LIGHTCOND_Dark - No Street Lights</th>\n",
       "      <th>LIGHTCOND_Dark - Street Lights Off</th>\n",
       "      <th>LIGHTCOND_Dark - Street Lights On</th>\n",
       "      <th>LIGHTCOND_Dark - Unknown Lighting</th>\n",
       "      <th>LIGHTCOND_Dawn</th>\n",
       "      <th>LIGHTCOND_Daylight</th>\n",
       "      <th>LIGHTCOND_Dusk</th>\n",
       "      <th>LIGHTCOND_Other</th>\n",
       "      <th>LIGHTCOND_Unknown</th>\n",
       "    </tr>\n",
       "  </thead>\n",
       "  <tbody>\n",
       "    <tr>\n",
       "      <td>0</td>\n",
       "      <td>2</td>\n",
       "      <td>2</td>\n",
       "      <td>0</td>\n",
       "      <td>0</td>\n",
       "      <td>0</td>\n",
       "      <td>0</td>\n",
       "      <td>1</td>\n",
       "      <td>0</td>\n",
       "      <td>0</td>\n",
       "      <td>0</td>\n",
       "      <td>...</td>\n",
       "      <td>0</td>\n",
       "      <td>0</td>\n",
       "      <td>0</td>\n",
       "      <td>0</td>\n",
       "      <td>0</td>\n",
       "      <td>0</td>\n",
       "      <td>1</td>\n",
       "      <td>0</td>\n",
       "      <td>0</td>\n",
       "      <td>0</td>\n",
       "    </tr>\n",
       "    <tr>\n",
       "      <td>1</td>\n",
       "      <td>2</td>\n",
       "      <td>2</td>\n",
       "      <td>0</td>\n",
       "      <td>0</td>\n",
       "      <td>0</td>\n",
       "      <td>0</td>\n",
       "      <td>0</td>\n",
       "      <td>0</td>\n",
       "      <td>1</td>\n",
       "      <td>0</td>\n",
       "      <td>...</td>\n",
       "      <td>0</td>\n",
       "      <td>0</td>\n",
       "      <td>0</td>\n",
       "      <td>1</td>\n",
       "      <td>0</td>\n",
       "      <td>0</td>\n",
       "      <td>0</td>\n",
       "      <td>0</td>\n",
       "      <td>0</td>\n",
       "      <td>0</td>\n",
       "    </tr>\n",
       "    <tr>\n",
       "      <td>2</td>\n",
       "      <td>3</td>\n",
       "      <td>4</td>\n",
       "      <td>0</td>\n",
       "      <td>0</td>\n",
       "      <td>0</td>\n",
       "      <td>0</td>\n",
       "      <td>1</td>\n",
       "      <td>0</td>\n",
       "      <td>0</td>\n",
       "      <td>0</td>\n",
       "      <td>...</td>\n",
       "      <td>0</td>\n",
       "      <td>0</td>\n",
       "      <td>0</td>\n",
       "      <td>0</td>\n",
       "      <td>0</td>\n",
       "      <td>0</td>\n",
       "      <td>1</td>\n",
       "      <td>0</td>\n",
       "      <td>0</td>\n",
       "      <td>0</td>\n",
       "    </tr>\n",
       "    <tr>\n",
       "      <td>3</td>\n",
       "      <td>3</td>\n",
       "      <td>3</td>\n",
       "      <td>0</td>\n",
       "      <td>1</td>\n",
       "      <td>0</td>\n",
       "      <td>0</td>\n",
       "      <td>0</td>\n",
       "      <td>0</td>\n",
       "      <td>0</td>\n",
       "      <td>0</td>\n",
       "      <td>...</td>\n",
       "      <td>0</td>\n",
       "      <td>0</td>\n",
       "      <td>0</td>\n",
       "      <td>0</td>\n",
       "      <td>0</td>\n",
       "      <td>0</td>\n",
       "      <td>1</td>\n",
       "      <td>0</td>\n",
       "      <td>0</td>\n",
       "      <td>0</td>\n",
       "    </tr>\n",
       "    <tr>\n",
       "      <td>4</td>\n",
       "      <td>2</td>\n",
       "      <td>2</td>\n",
       "      <td>0</td>\n",
       "      <td>0</td>\n",
       "      <td>0</td>\n",
       "      <td>0</td>\n",
       "      <td>0</td>\n",
       "      <td>0</td>\n",
       "      <td>1</td>\n",
       "      <td>0</td>\n",
       "      <td>...</td>\n",
       "      <td>0</td>\n",
       "      <td>0</td>\n",
       "      <td>0</td>\n",
       "      <td>0</td>\n",
       "      <td>0</td>\n",
       "      <td>0</td>\n",
       "      <td>1</td>\n",
       "      <td>0</td>\n",
       "      <td>0</td>\n",
       "      <td>0</td>\n",
       "    </tr>\n",
       "  </tbody>\n",
       "</table>\n",
       "<p>5 rows × 80 columns</p>\n",
       "</div>"
      ],
      "text/plain": [
       "   VEHCOUNT  PERSONCOUNT  WEATHER_Blowing Sand/Dirt  WEATHER_Clear  \\\n",
       "0         2            2                          0              0   \n",
       "1         2            2                          0              0   \n",
       "2         3            4                          0              0   \n",
       "3         3            3                          0              1   \n",
       "4         2            2                          0              0   \n",
       "\n",
       "   WEATHER_Fog/Smog/Smoke  WEATHER_Other  WEATHER_Overcast  \\\n",
       "0                       0              0                 1   \n",
       "1                       0              0                 0   \n",
       "2                       0              0                 1   \n",
       "3                       0              0                 0   \n",
       "4                       0              0                 0   \n",
       "\n",
       "   WEATHER_Partly Cloudy  WEATHER_Raining  WEATHER_Severe Crosswind  ...  \\\n",
       "0                      0                0                         0  ...   \n",
       "1                      0                1                         0  ...   \n",
       "2                      0                0                         0  ...   \n",
       "3                      0                0                         0  ...   \n",
       "4                      0                1                         0  ...   \n",
       "\n",
       "   SDOT_COLDESC_PEDALCYCLIST STRUCK PEDESTRIAN  \\\n",
       "0                                            0   \n",
       "1                                            0   \n",
       "2                                            0   \n",
       "3                                            0   \n",
       "4                                            0   \n",
       "\n",
       "   LIGHTCOND_Dark - No Street Lights  LIGHTCOND_Dark - Street Lights Off  \\\n",
       "0                                  0                                   0   \n",
       "1                                  0                                   0   \n",
       "2                                  0                                   0   \n",
       "3                                  0                                   0   \n",
       "4                                  0                                   0   \n",
       "\n",
       "   LIGHTCOND_Dark - Street Lights On  LIGHTCOND_Dark - Unknown Lighting  \\\n",
       "0                                  0                                  0   \n",
       "1                                  1                                  0   \n",
       "2                                  0                                  0   \n",
       "3                                  0                                  0   \n",
       "4                                  0                                  0   \n",
       "\n",
       "   LIGHTCOND_Dawn  LIGHTCOND_Daylight  LIGHTCOND_Dusk  LIGHTCOND_Other  \\\n",
       "0               0                   1               0                0   \n",
       "1               0                   0               0                0   \n",
       "2               0                   1               0                0   \n",
       "3               0                   1               0                0   \n",
       "4               0                   1               0                0   \n",
       "\n",
       "   LIGHTCOND_Unknown  \n",
       "0                  0  \n",
       "1                  0  \n",
       "2                  0  \n",
       "3                  0  \n",
       "4                  0  \n",
       "\n",
       "[5 rows x 80 columns]"
      ]
     },
     "execution_count": 90,
     "metadata": {},
     "output_type": "execute_result"
    }
   ],
   "source": [
    "Feature=pd.get_dummies(df[['WEATHER','ROADCOND','JUNCTIONTYPE','VEHCOUNT','PERSONCOUNT','ADDRTYPE', 'SDOT_COLDESC','LIGHTCOND']])\n",
    "\n",
    "Feature.head()"
   ]
  },
  {
   "cell_type": "code",
   "execution_count": 93,
   "metadata": {},
   "outputs": [],
   "source": [
    "x=Feature\n",
    "y=df['SEVERITYDESC'].values"
   ]
  },
  {
   "cell_type": "code",
   "execution_count": 95,
   "metadata": {},
   "outputs": [
    {
     "name": "stdout",
     "output_type": "stream",
     "text": [
      "x shape : (182914, 80)\n",
      "y shape : (182914,)\n"
     ]
    }
   ],
   "source": [
    "print(\"x shape :\",x.shape)\n",
    "print(\"y shape :\", y.shape)"
   ]
  },
  {
   "cell_type": "markdown",
   "metadata": {},
   "source": [
    "## Model Development and Evaluation"
   ]
  },
  {
   "cell_type": "code",
   "execution_count": 100,
   "metadata": {},
   "outputs": [
    {
     "name": "stdout",
     "output_type": "stream",
     "text": [
      "train set: (146331, 80) (146331,)\n",
      "test set : (36583, 80) (36583,)\n"
     ]
    }
   ],
   "source": [
    "from sklearn.model_selection import train_test_split\n",
    "x_train, x_test, y_train, y_test = train_test_split(x,y, test_size=0.2, random_state=88)\n",
    "print('train set:', x_train.shape, y_train.shape)\n",
    "print('test set :', x_test.shape, y_test.shape)"
   ]
  },
  {
   "cell_type": "markdown",
   "metadata": {},
   "source": [
    "## Machine learning Model"
   ]
  },
  {
   "cell_type": "markdown",
   "metadata": {},
   "source": [
    "### Random Forest Model"
   ]
  },
  {
   "cell_type": "code",
   "execution_count": 101,
   "metadata": {},
   "outputs": [
    {
     "data": {
      "text/plain": [
       "RandomForestClassifier(bootstrap=True, class_weight=None, criterion='gini',\n",
       "                       max_depth=None, max_features='auto', max_leaf_nodes=None,\n",
       "                       min_impurity_decrease=0.0, min_impurity_split=None,\n",
       "                       min_samples_leaf=1, min_samples_split=2,\n",
       "                       min_weight_fraction_leaf=0.0, n_estimators=100,\n",
       "                       n_jobs=None, oob_score=False, random_state=None,\n",
       "                       verbose=0, warm_start=False)"
      ]
     },
     "execution_count": 101,
     "metadata": {},
     "output_type": "execute_result"
    }
   ],
   "source": [
    "from sklearn.ensemble import RandomForestClassifier\n",
    "\n",
    "#Modelling\n",
    "model=RandomForestClassifier(n_estimators=100)\n",
    "model.fit(x_train,y_train)"
   ]
  },
  {
   "cell_type": "code",
   "execution_count": 107,
   "metadata": {},
   "outputs": [
    {
     "name": "stdout",
     "output_type": "stream",
     "text": [
      "['Property Damage Only Collision' 'Property Damage Only Collision'\n",
      " 'Property Damage Only Collision' 'Property Damage Only Collision'\n",
      " 'Property Damage Only Collision']\n",
      "['Property Damage Only Collision' 'Injury Collision'\n",
      " 'Property Damage Only Collision' 'Property Damage Only Collision'\n",
      " 'Property Damage Only Collision']\n"
     ]
    }
   ],
   "source": [
    "#Prediction\n",
    "y_pred=model.predict(x_test)\n",
    "\n",
    "print(y_test[0:5])\n",
    "print(y_pred[0:5])"
   ]
  },
  {
   "cell_type": "code",
   "execution_count": 113,
   "metadata": {},
   "outputs": [
    {
     "name": "stderr",
     "output_type": "stream",
     "text": [
      "C:\\Users\\USER\\Anaconda3\\lib\\site-packages\\sklearn\\metrics\\classification.py:635: DeprecationWarning: jaccard_similarity_score has been deprecated and replaced with jaccard_score. It will be removed in version 0.23. This implementation has surprising behavior for binary and multiclass classification tasks.\n",
      "  'and multiclass classification tasks.', DeprecationWarning)\n"
     ]
    }
   ],
   "source": [
    "from sklearn.metrics import accuracy_score\n",
    "from sklearn.metrics import jaccard_similarity_score\n",
    "from sklearn.metrics import f1_score\n",
    "\n",
    "\n",
    "# Accuracy Score\n",
    "ac=accuracy_score(y_test,y_pred)*100\n",
    "#Jaccard similarity score\n",
    "jc=jaccard_similarity_score(y_test, y_pred)*100\n",
    "#f1 score\n",
    "fs=f1_score(y_test, y_pred, average='weighted')*100"
   ]
  },
  {
   "cell_type": "code",
   "execution_count": 117,
   "metadata": {},
   "outputs": [
    {
     "data": {
      "text/plain": [
       "[74.5838230872263, 74.5838230872263, 70.81225587190274]"
      ]
     },
     "execution_count": 117,
     "metadata": {},
     "output_type": "execute_result"
    }
   ],
   "source": [
    "list_a=[ac,jc,fs]\n",
    "list_a"
   ]
  },
  {
   "cell_type": "code",
   "execution_count": 129,
   "metadata": {},
   "outputs": [
    {
     "data": {
      "text/html": [
       "<div>\n",
       "<style scoped>\n",
       "    .dataframe tbody tr th:only-of-type {\n",
       "        vertical-align: middle;\n",
       "    }\n",
       "\n",
       "    .dataframe tbody tr th {\n",
       "        vertical-align: top;\n",
       "    }\n",
       "\n",
       "    .dataframe thead th {\n",
       "        text-align: right;\n",
       "    }\n",
       "</style>\n",
       "<table border=\"1\" class=\"dataframe\">\n",
       "  <thead>\n",
       "    <tr style=\"text-align: right;\">\n",
       "      <th></th>\n",
       "      <th>accuracy score</th>\n",
       "      <th>jaccard similarity score</th>\n",
       "      <th>f1 score</th>\n",
       "    </tr>\n",
       "  </thead>\n",
       "  <tbody>\n",
       "    <tr>\n",
       "      <td>Random Forest</td>\n",
       "      <td>74.583823</td>\n",
       "      <td>74.583823</td>\n",
       "      <td>70.812256</td>\n",
       "    </tr>\n",
       "  </tbody>\n",
       "</table>\n",
       "</div>"
      ],
      "text/plain": [
       "               accuracy score  jaccard similarity score   f1 score\n",
       "Random Forest       74.583823                 74.583823  70.812256"
      ]
     },
     "execution_count": 129,
     "metadata": {},
     "output_type": "execute_result"
    }
   ],
   "source": [
    "scores= {\"accuracy score\": ac,\"jaccard similarity score\": jc,\"f1 score\": fs}\n",
    "df = pd.DataFrame(scores,index=['Random Forest'])\n",
    "df"
   ]
  }
 ],
 "metadata": {
  "kernelspec": {
   "display_name": "Python 3",
   "language": "python",
   "name": "python3"
  },
  "language_info": {
   "codemirror_mode": {
    "name": "ipython",
    "version": 3
   },
   "file_extension": ".py",
   "mimetype": "text/x-python",
   "name": "python",
   "nbconvert_exporter": "python",
   "pygments_lexer": "ipython3",
   "version": "3.7.4"
  }
 },
 "nbformat": 4,
 "nbformat_minor": 2
}
